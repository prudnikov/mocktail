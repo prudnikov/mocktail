{
 "cells": [
  {
   "cell_type": "markdown",
   "id": "a6f882b45683028f",
   "metadata": {},
   "source": [
    "Setup logging config, so we can see the error message from the mocktail library and ignore debug messages."
   ]
  },
  {
   "metadata": {
    "ExecuteTime": {
     "end_time": "2024-11-12T14:20:03.499724Z",
     "start_time": "2024-11-12T14:20:03.497409Z"
    }
   },
   "cell_type": "code",
   "source": [
    "import json\n",
    "import logging\n",
    "\n",
    "from mocktail import mocktail, providers, serializers\n",
    "from mocktail.fields.int import Int\n",
    "from mocktail.fields.str import Str\n",
    "from mocktail.providers import single_int\n",
    "\n",
    "logging.basicConfig(level=logging.ERROR, format=\"~ %(message)s\",)"
   ],
   "id": "32870332ddd8c3d1",
   "outputs": [],
   "execution_count": 31
  },
  {
   "metadata": {},
   "cell_type": "markdown",
   "source": "Data model can be defined as pure Python class. Let's star with the simple one.",
   "id": "a71f7c3b2bb22dad"
  },
  {
   "metadata": {
    "ExecuteTime": {
     "end_time": "2024-11-12T14:20:13.126926Z",
     "start_time": "2024-11-12T14:20:13.124234Z"
    }
   },
   "cell_type": "code",
   "source": [
    "class User1:\n",
    "    username: str\n",
    "    age: int"
   ],
   "id": "ff7781e35fd13c09",
   "outputs": [],
   "execution_count": 32
  },
  {
   "metadata": {},
   "cell_type": "markdown",
   "source": "To generate data simply call `mocktail` function by passing model class and number of records. Let's create 5 users",
   "id": "3ed1a993832b89c"
  },
  {
   "metadata": {
    "ExecuteTime": {
     "end_time": "2024-11-12T14:20:43.336830Z",
     "start_time": "2024-11-12T14:20:43.334954Z"
    }
   },
   "cell_type": "code",
   "source": [
    "users = mocktail(User1, 5)\n",
    "print(json.dumps(users, indent=2))"
   ],
   "id": "14ce38838e45b3fb",
   "outputs": [],
   "execution_count": 33
  },
  {
   "metadata": {},
   "cell_type": "markdown",
   "source": "This creates data records as array of dictionaries. While values are valid strings and integers, `username` and `age` field values looks odd. Let's customize `age` field so it is a little bit more realistic.",
   "id": "440499e0a245db3c"
  },
  {
   "metadata": {
    "ExecuteTime": {
     "end_time": "2024-11-12T14:21:55.652052Z",
     "start_time": "2024-11-12T14:21:55.650095Z"
    }
   },
   "cell_type": "code",
   "source": [
    "class User2:\n",
    "    username: str\n",
    "    age = Int(min_value=0, max_value=100)"
   ],
   "id": "eba2090873f1ffa1",
   "outputs": [],
   "execution_count": 36
  },
  {
   "metadata": {
    "ExecuteTime": {
     "end_time": "2024-11-12T14:21:58.312176Z",
     "start_time": "2024-11-12T14:21:58.308315Z"
    }
   },
   "cell_type": "code",
   "source": [
    "users = mocktail(User2, 5)\n",
    "print(json.dumps(users, indent=2))"
   ],
   "id": "d06a20b820cc91b0",
   "outputs": [
    {
     "name": "stdout",
     "output_type": "stream",
     "text": [
      "[\n",
      "  {\n",
      "    \"age\": 64,\n",
      "    \"username\": \"fErJqWacCH\"\n",
      "  },\n",
      "  {\n",
      "    \"age\": 27,\n",
      "    \"username\": \"FULHKCpAXg\"\n",
      "  },\n",
      "  {\n",
      "    \"age\": 60,\n",
      "    \"username\": \"bmWLdyziwb\"\n",
      "  },\n",
      "  {\n",
      "    \"age\": 4,\n",
      "    \"username\": \"AuRyngZTaz\"\n",
      "  },\n",
      "  {\n",
      "    \"age\": 8,\n",
      "    \"username\": \"BRiZFSPldb\"\n",
      "  }\n",
      "]\n"
     ]
    }
   ],
   "execution_count": 37
  },
  {
   "metadata": {},
   "cell_type": "markdown",
   "source": [
    "But what about username? Can we do better? \n",
    "Sure, let's introduce a concept of providers. Providers are classes that generate actual values."
   ],
   "id": "ad48251e5c3b8025"
  },
  {
   "metadata": {
    "ExecuteTime": {
     "end_time": "2024-11-12T14:22:51.816716Z",
     "start_time": "2024-11-12T14:22:51.812434Z"
    }
   },
   "cell_type": "code",
   "source": [
    "class User3:\n",
    "    username = Str(provider=providers.Username())\n",
    "    age = Int(provider=providers.Age())"
   ],
   "id": "822819999f78548",
   "outputs": [
    {
     "name": "stdout",
     "output_type": "stream",
     "text": [
      "[\n",
      "  {\n",
      "    \"username\": \"robin99\",\n",
      "    \"age\": 12\n",
      "  },\n",
      "  {\n",
      "    \"username\": \"fmarquez\",\n",
      "    \"age\": 75\n",
      "  },\n",
      "  {\n",
      "    \"username\": \"ybradford\",\n",
      "    \"age\": 31\n",
      "  },\n",
      "  {\n",
      "    \"username\": \"ruth82\",\n",
      "    \"age\": 35\n",
      "  },\n",
      "  {\n",
      "    \"username\": \"aaronkelly\",\n",
      "    \"age\": 23\n",
      "  }\n",
      "]\n"
     ]
    }
   ],
   "execution_count": 38
  },
  {
   "metadata": {},
   "cell_type": "code",
   "outputs": [],
   "execution_count": null,
   "source": [
    "users = mocktail(User3, 5)\n",
    "print(json.dumps(users, indent=2))"
   ],
   "id": "5c6890e0ffa6adda"
  },
  {
   "metadata": {},
   "cell_type": "markdown",
   "source": "Now we can see realistic data is generated.",
   "id": "d786cad313ef5363"
  },
  {
   "metadata": {},
   "cell_type": "markdown",
   "source": "In technical terms provider is `Generator[T, None, None] | Iterator[T]`. We have more of them. Let's add more fields to the User.",
   "id": "bb0c85c6eb4ea0ce"
  },
  {
   "metadata": {
    "ExecuteTime": {
     "end_time": "2024-11-12T15:16:54.350216Z",
     "start_time": "2024-11-12T15:16:54.337790Z"
    }
   },
   "cell_type": "code",
   "source": [
    "class User4:\n",
    "    first_name = Str(provider=providers.FirstName())\n",
    "    last_name = Str(provider=providers.LastName())\n",
    "    address = Str(provider=providers.Address())\n",
    "    country = Str(provider=providers.Country())\n",
    "    username = Str(provider=providers.Username())\n",
    "    age = Int(provider=providers.Age())\n",
    "    \n",
    "print(json.dumps(mocktail(User4, 10), indent=2))"
   ],
   "id": "f052c7936abce9dd",
   "outputs": [
    {
     "name": "stdout",
     "output_type": "stream",
     "text": [
      "[\n",
      "  {\n",
      "    \"first_name\": \"Stacy\",\n",
      "    \"last_name\": \"Parsons\",\n",
      "    \"address\": \"Unit 7904 Box 4380\\nDPO AE 01026\",\n",
      "    \"country\": \"Slovenia\",\n",
      "    \"username\": \"dwaynehensley\",\n",
      "    \"age\": 12\n",
      "  },\n",
      "  {\n",
      "    \"first_name\": \"Travis\",\n",
      "    \"last_name\": \"Singh\",\n",
      "    \"address\": \"75557 Robert Lock Suite 176\\nNew Michelechester, MA 15641\",\n",
      "    \"country\": \"Congo\",\n",
      "    \"username\": \"whiteshawn\",\n",
      "    \"age\": 73\n",
      "  },\n",
      "  {\n",
      "    \"first_name\": \"Thomas\",\n",
      "    \"last_name\": \"Aguilar\",\n",
      "    \"address\": \"PSC 5766, Box 9803\\nAPO AP 09919\",\n",
      "    \"country\": \"Martinique\",\n",
      "    \"username\": \"tylercraig\",\n",
      "    \"age\": 58\n",
      "  },\n",
      "  {\n",
      "    \"first_name\": \"Benjamin\",\n",
      "    \"last_name\": \"Espinoza\",\n",
      "    \"address\": \"092 Thomas Isle Suite 601\\nSouth Gabriellehaven, CT 25210\",\n",
      "    \"country\": \"Saint Martin\",\n",
      "    \"username\": \"paynedavid\",\n",
      "    \"age\": 40\n",
      "  },\n",
      "  {\n",
      "    \"first_name\": \"Cody\",\n",
      "    \"last_name\": \"Morales\",\n",
      "    \"address\": \"722 Melissa Lights Apt. 950\\nFloresborough, MH 79424\",\n",
      "    \"country\": \"Aruba\",\n",
      "    \"username\": \"jon71\",\n",
      "    \"age\": 52\n",
      "  },\n",
      "  {\n",
      "    \"first_name\": \"Darin\",\n",
      "    \"last_name\": \"Thompson\",\n",
      "    \"address\": \"58847 Blake Estates Apt. 584\\nSharphaven, UT 82841\",\n",
      "    \"country\": \"Falkland Islands (Malvinas)\",\n",
      "    \"username\": \"jonathan51\",\n",
      "    \"age\": 25\n",
      "  },\n",
      "  {\n",
      "    \"first_name\": \"Keith\",\n",
      "    \"last_name\": \"Clark\",\n",
      "    \"address\": \"358 Kelly Road Suite 487\\nPort Kevin, KS 63587\",\n",
      "    \"country\": \"Bosnia and Herzegovina\",\n",
      "    \"username\": \"middletonsara\",\n",
      "    \"age\": 86\n",
      "  },\n",
      "  {\n",
      "    \"first_name\": \"Pamela\",\n",
      "    \"last_name\": \"Johnson\",\n",
      "    \"address\": \"PSC 5609, Box 1819\\nAPO AA 69152\",\n",
      "    \"country\": \"Bulgaria\",\n",
      "    \"username\": \"gabrielunderwood\",\n",
      "    \"age\": 99\n",
      "  },\n",
      "  {\n",
      "    \"first_name\": \"Julie\",\n",
      "    \"last_name\": \"Adams\",\n",
      "    \"address\": \"9791 Bryan Garden Suite 551\\nLake Steven, TN 63902\",\n",
      "    \"country\": \"Saint Lucia\",\n",
      "    \"username\": \"garciajennifer\",\n",
      "    \"age\": 8\n",
      "  },\n",
      "  {\n",
      "    \"first_name\": \"Melissa\",\n",
      "    \"last_name\": \"Tate\",\n",
      "    \"address\": \"65372 Baker Harbors Apt. 574\\nSmithville, WY 75774\",\n",
      "    \"country\": \"Latvia\",\n",
      "    \"username\": \"swoodward\",\n",
      "    \"age\": 24\n",
      "  }\n",
      "]\n"
     ]
    }
   ],
   "execution_count": 49
  },
  {
   "metadata": {},
   "cell_type": "code",
   "outputs": [],
   "execution_count": null,
   "source": [
    "users = mocktail(User4, 5)\n",
    "print(json.dumps(users, indent=2))"
   ],
   "id": "d949f5c6558518b8"
  },
  {
   "metadata": {},
   "cell_type": "markdown",
   "source": [
    "Another concept is serializers. Serializers provide a way for you to customize the output. \n",
    "To create a CSV string you just tell mocktail to use `CsvString` serializer like this:"
   ],
   "id": "7a671687c7a2185c"
  },
  {
   "metadata": {
    "ExecuteTime": {
     "end_time": "2024-11-12T15:17:46.278396Z",
     "start_time": "2024-11-12T15:17:46.273285Z"
    }
   },
   "cell_type": "code",
   "source": "print(mocktail(User4, 5, serializer=serializers.CsvString()))",
   "id": "c5ee69d53484f3f9",
   "outputs": [
    {
     "name": "stdout",
     "output_type": "stream",
     "text": [
      "\"first_name\",\"last_name\",\"address\",\"country\",\"username\",\"age\"\r\n",
      "\"Pamela\",\"Green\",\"710 Parker Summit\n",
      "Port Michaelstad, ME 20576\",\"Ecuador\",\"davidgoodman\",5\r\n",
      "\"John\",\"Lucas\",\"398 Allison Stravenue\n",
      "Lake Crystal, MT 99783\",\"Nicaragua\",\"richardedwards\",17\r\n",
      "\"Shelly\",\"Clark\",\"7507 Roberts Corners\n",
      "South Alisonland, HI 08998\",\"Denmark\",\"danielholmes\",33\r\n",
      "\"Christopher\",\"Mitchell\",\"Unit 1232 Box 0443\n",
      "DPO AP 65967\",\"Guyana\",\"uballard\",84\r\n",
      "\"Richard\",\"Stephens\",\"034 Parker Gardens\n",
      "Lake Keithfurt, NJ 48335\",\"Djibouti\",\"kbradshaw\",6\r\n",
      "\n"
     ]
    }
   ],
   "execution_count": 50
  },
  {
   "metadata": {},
   "cell_type": "markdown",
   "source": "You can also use `CsvFile` serializer to create a CSV file with the generated data. This will create `test_output.csv` file in the same directory, or you can pass `pathlib.Path` pointing to the location of the file.",
   "id": "de66a8b5c4f5cba9"
  },
  {
   "metadata": {
    "ExecuteTime": {
     "end_time": "2024-11-12T15:22:27.058615Z",
     "start_time": "2024-11-12T15:22:27.054299Z"
    }
   },
   "cell_type": "code",
   "source": [
    "csv_file_serializer = serializers.CsvFile('test_output.csv')\n",
    "mocktail(User4, 5, serializer=csv_file_serializer)"
   ],
   "id": "e46a348740f002c2",
   "outputs": [
    {
     "name": "stdout",
     "output_type": "stream",
     "text": [
      "test_output.csv\n"
     ]
    }
   ],
   "execution_count": 60
  },
  {
   "metadata": {},
   "cell_type": "markdown",
   "source": "If you have tests that require inline SQL CTE with the mock data you can use `SqlCte` serializer. When creating serializer instance you need to pass alias for created CTE. ",
   "id": "53ec7d4c492b535e"
  },
  {
   "metadata": {
    "ExecuteTime": {
     "end_time": "2024-11-12T14:26:44.554368Z",
     "start_time": "2024-11-12T14:26:44.547665Z"
    }
   },
   "cell_type": "code",
   "source": [
    "class User5:\n",
    "    username = Str(provider=providers.Username())\n",
    "    first_name = Str(provider=providers.FirstName())\n",
    "    last_name = Str(provider=providers.LastName())\n",
    "    age = Int(provider=providers.Age())\n",
    "    \n",
    "print(mocktail(User5, 5, serializer=serializers.SqlCte(\"UserModel\")))"
   ],
   "id": "d24cbd19e757449d",
   "outputs": [
    {
     "name": "stdout",
     "output_type": "stream",
     "text": [
      "WITH \"UserModel\" AS \n",
      "(SELECT username AS username, first_name AS first_name, last_name AS last_name, age AS age \n",
      "FROM (VALUES ('bsmith', 'Ryan', 'Smith', 18), ('jjenkins', 'Patricia', 'Sanchez', 89), ('derrick95', 'Kelly', 'Bradley', 21), ('joshua30', 'Colleen', 'Eaton', 93), ('agonzalez', 'John', 'Hendricks', 30)))\n",
      " SELECT \"UserModel\".username, \"UserModel\".first_name, \"UserModel\".last_name, \"UserModel\".age \n",
      "FROM \"UserModel\"\n"
     ]
    }
   ],
   "execution_count": 43
  },
  {
   "metadata": {},
   "cell_type": "markdown",
   "source": [
    "You can expect something like \n",
    "```sql\n",
    "WITH \"UserModel\" AS (\n",
    "    SELECT username AS username, first_name AS first_name, last_name AS last_name, age AS age \n",
    "    FROM (\n",
    "        VALUES ('bsmith', 'Ryan', 'Smith', 18), ('jjenkins', 'Patricia', 'Sanchez', 89), ('derrick95', 'Kelly', 'Bradley', 21), ('joshua30', 'Colleen', 'Eaton', 93), ('agonzalez', 'John', 'Hendricks', 30)\n",
    "    )\n",
    ") \n",
    "SELECT \"UserModel\".username, \"UserModel\".first_name, \"UserModel\".last_name, \"UserModel\".age \n",
    "FROM UserModel\n",
    "```"
   ],
   "id": "3e6177296019971f"
  },
  {
   "metadata": {},
   "cell_type": "markdown",
   "source": "Other serializers are not implemented yet, but you can expect availability of different type of data file formats. ",
   "id": "7ae84ffcf14c3acf"
  },
  {
   "metadata": {},
   "cell_type": "markdown",
   "source": "What about testing edge cases with data? Something like age is less than 0?",
   "id": "32a9cd55ccca9df1"
  },
  {
   "metadata": {
    "ExecuteTime": {
     "end_time": "2024-11-12T14:30:07.709263Z",
     "start_time": "2024-11-12T14:30:07.707108Z"
    }
   },
   "cell_type": "code",
   "source": [
    "class User6:\n",
    "    age = Int(provider=[\n",
    "        (0.20, single_int(-1)), \n",
    "        (0.80, providers.Age())\n",
    "    ])\n",
    "    name = Str(provider=providers.FullName())"
   ],
   "id": "e9b5f59176ce76f0",
   "outputs": [],
   "execution_count": 46
  },
  {
   "metadata": {},
   "cell_type": "markdown",
   "source": [
    "This model will contain around 20% of values in `age` field being `-1` (which obviously invalid for the age). With this data you can test your behaviour with the invalid data seeded.\n",
    "Here we create 1000 records and print number of records where `age=-1`, which should be around 20%."
   ],
   "id": "5e05caa2899bb70d"
  },
  {
   "metadata": {
    "ExecuteTime": {
     "end_time": "2024-11-12T14:30:08.510979Z",
     "start_time": "2024-11-12T14:30:08.416001Z"
    }
   },
   "cell_type": "code",
   "source": [
    "test_users = mocktail(User6, 1000)\n",
    "\n",
    "print(f\"Number of users with age equal to -1: {len(list(filter(lambda x: x[\"age\"] == -1, test_users)))}\")"
   ],
   "id": "e816c57a9a69df25",
   "outputs": [
    {
     "name": "stdout",
     "output_type": "stream",
     "text": [
      "Number of users with age equal to -1: 102\n"
     ]
    }
   ],
   "execution_count": 47
  },
  {
   "metadata": {},
   "cell_type": "markdown",
   "source": "In the latest model, you saw a new way to define providers using an array of tuples. In each tuple, the first element is a decimal between 0 and 1, which represents the likelihood of using the provider instance, given as the second element. This lets you introduce invalid data into your models for testing purposes.",
   "id": "773bc7e729ad2bcc"
  },
  {
   "metadata": {},
   "cell_type": "markdown",
   "source": "Another feature you saw is the `single_int` provider, which, as the name suggests, uses the integer given as the first argument each time this provider is called.",
   "id": "28217cb9351e08a1"
  },
  {
   "metadata": {},
   "cell_type": "markdown",
   "source": [
    "Obviously there are much more possibilities that not yet ready. Stay tuned for more updates.\n",
    "\n",
    "Happy coding :)"
   ],
   "id": "39787c619ef9c79e"
  }
 ],
 "metadata": {
  "kernelspec": {
   "display_name": "Python 3 (ipykernel)",
   "language": "python",
   "name": "python3"
  },
  "language_info": {
   "codemirror_mode": {
    "name": "ipython",
    "version": 3
   },
   "file_extension": ".py",
   "mimetype": "text/x-python",
   "name": "python",
   "nbconvert_exporter": "python",
   "pygments_lexer": "ipython3",
   "version": "3.12.4"
  }
 },
 "nbformat": 4,
 "nbformat_minor": 5
}
