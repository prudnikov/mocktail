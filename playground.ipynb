{
 "cells": [
  {
   "metadata": {},
   "cell_type": "markdown",
   "source": "Setup logging config, so we can see the error message from the mocktail library and ignore debug messages.",
   "id": "a6f882b45683028f"
  },
  {
   "metadata": {
    "jupyter": {
     "is_executing": true
    }
   },
   "cell_type": "code",
   "source": [
    "import logging\n",
    "\n",
    "from mocktail import mocktail\n",
    "from mocktail.fields.int import Int\n",
    "from mocktail.fields.str import Str\n",
    "\n",
    "\n",
    "logging.basicConfig(level=logging.ERROR, format=\"~ %(message)s\",)"
   ],
   "id": "5d50b224cf89c3b",
   "outputs": [],
   "execution_count": null
  },
  {
   "metadata": {},
   "cell_type": "markdown",
   "source": "Define basic model class",
   "id": "d2866b78598251c2"
  },
  {
   "metadata": {},
   "cell_type": "code",
   "source": [
    "class User:\n",
    "    username: str\n",
    "    age: int"
   ],
   "id": "2d5c1dad0328a8",
   "outputs": [],
   "execution_count": null
  },
  {
   "metadata": {},
   "cell_type": "markdown",
   "source": "Generate 5 records of User model",
   "id": "c7ec2345b3ce51db"
  },
  {
   "metadata": {
    "collapsed": true
   },
   "cell_type": "code",
   "source": "print(mocktail(User, 5))",
   "id": "initial_id",
   "outputs": [],
   "execution_count": null
  },
  {
   "metadata": {},
   "cell_type": "markdown",
   "source": "This `age` field is valid integer, but it looks weird for the age attribute. Let's make it follow some rules.",
   "id": "b94070359bbc8032"
  },
  {
   "metadata": {},
   "cell_type": "code",
   "source": [
    "class User2(User):\n",
    "    username: str\n",
    "    age = Int(min_value=0, max_value=100)\n",
    "\n",
    "print(mocktail(User2, 5))"
   ],
   "id": "f97137d63066a775",
   "outputs": [],
   "execution_count": null
  },
  {
   "metadata": {},
   "cell_type": "code",
   "source": [
    "from mocktail import providers\n",
    "from mocktail.fields.str import Str\n",
    "\n",
    "class User:\n",
    "    username = Str(provider=providers.BaseFaker())\n",
    "    age = Int(provider=providers.Age())\n",
    "    \n",
    "print(mocktail(User, 5))"
   ],
   "id": "7ef14e1ae8e5e6a8",
   "outputs": [],
   "execution_count": null
  }
 ],
 "metadata": {
  "kernelspec": {
   "display_name": "Python 3",
   "language": "python",
   "name": "python3"
  },
  "language_info": {
   "codemirror_mode": {
    "name": "ipython",
    "version": 2
   },
   "file_extension": ".py",
   "mimetype": "text/x-python",
   "name": "python",
   "nbconvert_exporter": "python",
   "pygments_lexer": "ipython2",
   "version": "2.7.6"
  }
 },
 "nbformat": 4,
 "nbformat_minor": 5
}
