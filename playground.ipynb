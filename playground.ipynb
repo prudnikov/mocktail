{
 "cells": [
  {
   "cell_type": "markdown",
   "id": "a6f882b45683028f",
   "metadata": {},
   "source": [
    "Setup logging config, so we can see the error message from the mocktail library and ignore debug messages."
   ]
  },
  {
   "metadata": {
    "ExecuteTime": {
     "end_time": "2024-11-12T15:59:50.751164Z",
     "start_time": "2024-11-12T15:59:50.749027Z"
    }
   },
   "cell_type": "code",
   "source": [
    "import json\n",
    "import logging\n",
    "\n",
    "from mocktail import mocktail, providers, serializers\n",
    "from mocktail.fields.int import Int\n",
    "from mocktail.fields.str import Str\n",
    "from mocktail.providers import single_int\n",
    "\n",
    "logging.basicConfig(level=logging.ERROR, format=\"~ %(message)s\",)"
   ],
   "id": "32870332ddd8c3d1",
   "outputs": [],
   "execution_count": 6
  },
  {
   "metadata": {},
   "cell_type": "markdown",
   "source": "Data model can be defined as pure Python class. Let's star with the simple one.",
   "id": "a71f7c3b2bb22dad"
  },
  {
   "metadata": {
    "ExecuteTime": {
     "end_time": "2024-11-12T15:59:50.782460Z",
     "start_time": "2024-11-12T15:59:50.780719Z"
    }
   },
   "cell_type": "code",
   "source": [
    "class User1:\n",
    "    username: str\n",
    "    age: int"
   ],
   "id": "ff7781e35fd13c09",
   "outputs": [],
   "execution_count": 7
  },
  {
   "metadata": {},
   "cell_type": "markdown",
   "source": "To generate data simply call `mocktail` function by passing model class and number of records. Let's create 5 users",
   "id": "3ed1a993832b89c"
  },
  {
   "metadata": {
    "ExecuteTime": {
     "end_time": "2024-11-12T15:59:50.784951Z",
     "start_time": "2024-11-12T15:59:50.783291Z"
    }
   },
   "cell_type": "code",
   "source": [
    "users = mocktail(User1, 5)\n",
    "print(json.dumps(users, indent=2))"
   ],
   "id": "14ce38838e45b3fb",
   "outputs": [
    {
     "name": "stdout",
     "output_type": "stream",
     "text": [
      "[\n",
      "  {\n",
      "    \"username\": \"lshiyTZhjT\",\n",
      "    \"age\": -7824922703287259689\n",
      "  },\n",
      "  {\n",
      "    \"username\": \"bizOlAvrvu\",\n",
      "    \"age\": 8054835154187599207\n",
      "  },\n",
      "  {\n",
      "    \"username\": \"HaajYLSGOV\",\n",
      "    \"age\": 3016212116900990693\n",
      "  },\n",
      "  {\n",
      "    \"username\": \"KUIiJjmrPE\",\n",
      "    \"age\": 8320385039784821487\n",
      "  },\n",
      "  {\n",
      "    \"username\": \"EEoIqxcsDN\",\n",
      "    \"age\": 3862723318852378904\n",
      "  }\n",
      "]\n"
     ]
    }
   ],
   "execution_count": 8
  },
  {
   "metadata": {},
   "cell_type": "markdown",
   "source": "This creates data records as array of dictionaries. While values are valid strings and integers, `username` and `age` field values looks odd. Let's customize `age` field so it is a little bit more realistic.",
   "id": "440499e0a245db3c"
  },
  {
   "metadata": {
    "ExecuteTime": {
     "end_time": "2024-11-12T15:59:50.797551Z",
     "start_time": "2024-11-12T15:59:50.795862Z"
    }
   },
   "cell_type": "code",
   "source": [
    "class User2:\n",
    "    username: str\n",
    "    age = Int(min_value=0, max_value=100)"
   ],
   "id": "eba2090873f1ffa1",
   "outputs": [],
   "execution_count": 9
  },
  {
   "metadata": {
    "ExecuteTime": {
     "end_time": "2024-11-12T15:59:50.800308Z",
     "start_time": "2024-11-12T15:59:50.798481Z"
    }
   },
   "cell_type": "code",
   "source": [
    "users = mocktail(User2, 5)\n",
    "print(json.dumps(users, indent=2))"
   ],
   "id": "d06a20b820cc91b0",
   "outputs": [
    {
     "name": "stdout",
     "output_type": "stream",
     "text": [
      "[\n",
      "  {\n",
      "    \"age\": 86,\n",
      "    \"username\": \"AvjxoORZBz\"\n",
      "  },\n",
      "  {\n",
      "    \"age\": 11,\n",
      "    \"username\": \"rgqDsJBncy\"\n",
      "  },\n",
      "  {\n",
      "    \"age\": 55,\n",
      "    \"username\": \"TvrgzCBcJr\"\n",
      "  },\n",
      "  {\n",
      "    \"age\": 34,\n",
      "    \"username\": \"YXuXlZBWha\"\n",
      "  },\n",
      "  {\n",
      "    \"age\": 5,\n",
      "    \"username\": \"OrYjtcayHR\"\n",
      "  }\n",
      "]\n"
     ]
    }
   ],
   "execution_count": 10
  },
  {
   "metadata": {},
   "cell_type": "markdown",
   "source": [
    "But what about username? Can we do better? \n",
    "Sure, let's introduce a concept of providers. Providers are classes that generate actual values."
   ],
   "id": "ad48251e5c3b8025"
  },
  {
   "metadata": {
    "ExecuteTime": {
     "end_time": "2024-11-12T15:59:50.807460Z",
     "start_time": "2024-11-12T15:59:50.805607Z"
    }
   },
   "cell_type": "code",
   "source": [
    "class User3:\n",
    "    username = Str(provider=providers.Username())\n",
    "    age = Int(provider=providers.Age())"
   ],
   "id": "822819999f78548",
   "outputs": [],
   "execution_count": 11
  },
  {
   "metadata": {
    "ExecuteTime": {
     "end_time": "2024-11-12T15:59:50.857483Z",
     "start_time": "2024-11-12T15:59:50.830039Z"
    }
   },
   "cell_type": "code",
   "source": [
    "users = mocktail(User3, 5)\n",
    "print(json.dumps(users, indent=2))"
   ],
   "id": "5c6890e0ffa6adda",
   "outputs": [
    {
     "name": "stdout",
     "output_type": "stream",
     "text": [
      "[\n",
      "  {\n",
      "    \"username\": \"xblackwell\",\n",
      "    \"age\": 98\n",
      "  },\n",
      "  {\n",
      "    \"username\": \"allenkrystal\",\n",
      "    \"age\": 56\n",
      "  },\n",
      "  {\n",
      "    \"username\": \"lisa00\",\n",
      "    \"age\": 85\n",
      "  },\n",
      "  {\n",
      "    \"username\": \"nicole66\",\n",
      "    \"age\": 44\n",
      "  },\n",
      "  {\n",
      "    \"username\": \"davidhoffman\",\n",
      "    \"age\": 50\n",
      "  }\n",
      "]\n"
     ]
    }
   ],
   "execution_count": 12
  },
  {
   "metadata": {},
   "cell_type": "markdown",
   "source": "Now we can see realistic data is generated.",
   "id": "d786cad313ef5363"
  },
  {
   "metadata": {},
   "cell_type": "markdown",
   "source": "In technical terms provider is `Generator[T, None, None] | Iterator[T]`. We have more of them. Let's add more fields to the User.",
   "id": "bb0c85c6eb4ea0ce"
  },
  {
   "metadata": {
    "ExecuteTime": {
     "end_time": "2024-11-12T15:59:50.866961Z",
     "start_time": "2024-11-12T15:59:50.858592Z"
    }
   },
   "cell_type": "code",
   "source": [
    "class User4:\n",
    "    first_name = Str(provider=providers.FirstName())\n",
    "    last_name = Str(provider=providers.LastName())\n",
    "    address = Str(provider=providers.Address())\n",
    "    country = Str(provider=providers.Country())\n",
    "    username = Str(provider=providers.Username())\n",
    "    age = Int(provider=providers.Age())\n",
    "    \n",
    "print(json.dumps(mocktail(User4, 10), indent=2))"
   ],
   "id": "f052c7936abce9dd",
   "outputs": [
    {
     "name": "stdout",
     "output_type": "stream",
     "text": [
      "[\n",
      "  {\n",
      "    \"first_name\": \"Anne\",\n",
      "    \"last_name\": \"Stewart\",\n",
      "    \"address\": \"92233 Carlos Springs\\nHansenview, MT 30752\",\n",
      "    \"country\": \"Angola\",\n",
      "    \"username\": \"sandrajenkins\",\n",
      "    \"age\": 93\n",
      "  },\n",
      "  {\n",
      "    \"first_name\": \"Brittany\",\n",
      "    \"last_name\": \"Miller\",\n",
      "    \"address\": \"03406 Marc Lodge Apt. 829\\nPort Vanessaville, VA 82269\",\n",
      "    \"country\": \"Croatia\",\n",
      "    \"username\": \"eric25\",\n",
      "    \"age\": 64\n",
      "  },\n",
      "  {\n",
      "    \"first_name\": \"Christine\",\n",
      "    \"last_name\": \"Nelson\",\n",
      "    \"address\": \"300 Huynh Rapid\\nRyanport, NV 22191\",\n",
      "    \"country\": \"Malaysia\",\n",
      "    \"username\": \"tnewman\",\n",
      "    \"age\": 75\n",
      "  },\n",
      "  {\n",
      "    \"first_name\": \"Robert\",\n",
      "    \"last_name\": \"Brown\",\n",
      "    \"address\": \"632 Victoria Landing\\nAnthonyborough, MO 77943\",\n",
      "    \"country\": \"Holy See (Vatican City State)\",\n",
      "    \"username\": \"obrandt\",\n",
      "    \"age\": 18\n",
      "  },\n",
      "  {\n",
      "    \"first_name\": \"Emily\",\n",
      "    \"last_name\": \"Greene\",\n",
      "    \"address\": \"394 Joseph Skyway\\nNew Steven, AR 29979\",\n",
      "    \"country\": \"Hungary\",\n",
      "    \"username\": \"fowleramy\",\n",
      "    \"age\": 55\n",
      "  },\n",
      "  {\n",
      "    \"first_name\": \"William\",\n",
      "    \"last_name\": \"Gonzalez\",\n",
      "    \"address\": \"58044 Johnson Road\\nDebraborough, ME 90657\",\n",
      "    \"country\": \"Palestinian Territory\",\n",
      "    \"username\": \"zlane\",\n",
      "    \"age\": 41\n",
      "  },\n",
      "  {\n",
      "    \"first_name\": \"Matthew\",\n",
      "    \"last_name\": \"Anderson\",\n",
      "    \"address\": \"872 Austin Forges Suite 732\\nLake Vanessa, AZ 11964\",\n",
      "    \"country\": \"Marshall Islands\",\n",
      "    \"username\": \"rileywilson\",\n",
      "    \"age\": 78\n",
      "  },\n",
      "  {\n",
      "    \"first_name\": \"Keith\",\n",
      "    \"last_name\": \"Trujillo\",\n",
      "    \"address\": \"4225 David Village Apt. 404\\nPort Valerieberg, NV 86981\",\n",
      "    \"country\": \"Suriname\",\n",
      "    \"username\": \"mariah72\",\n",
      "    \"age\": 88\n",
      "  },\n",
      "  {\n",
      "    \"first_name\": \"Kathleen\",\n",
      "    \"last_name\": \"Rogers\",\n",
      "    \"address\": \"9624 Watson Skyway Suite 327\\nJamesview, WA 84404\",\n",
      "    \"country\": \"Lao People's Democratic Republic\",\n",
      "    \"username\": \"nvaughn\",\n",
      "    \"age\": 45\n",
      "  },\n",
      "  {\n",
      "    \"first_name\": \"Tonya\",\n",
      "    \"last_name\": \"Steele\",\n",
      "    \"address\": \"274 Jenkins Drives\\nWarnerview, RI 19742\",\n",
      "    \"country\": \"Libyan Arab Jamahiriya\",\n",
      "    \"username\": \"ajames\",\n",
      "    \"age\": 31\n",
      "  }\n",
      "]\n"
     ]
    }
   ],
   "execution_count": 13
  },
  {
   "metadata": {
    "ExecuteTime": {
     "end_time": "2024-11-12T15:59:50.870697Z",
     "start_time": "2024-11-12T15:59:50.867517Z"
    }
   },
   "cell_type": "code",
   "source": [
    "users = mocktail(User4, 5)\n",
    "print(json.dumps(users, indent=2))"
   ],
   "id": "d949f5c6558518b8",
   "outputs": [
    {
     "name": "stdout",
     "output_type": "stream",
     "text": [
      "[\n",
      "  {\n",
      "    \"first_name\": \"Susan\",\n",
      "    \"last_name\": \"Avery\",\n",
      "    \"address\": \"17634 Elizabeth Field\\nDavidstad, CO 61564\",\n",
      "    \"country\": \"Croatia\",\n",
      "    \"username\": \"matthewweaver\",\n",
      "    \"age\": 76\n",
      "  },\n",
      "  {\n",
      "    \"first_name\": \"David\",\n",
      "    \"last_name\": \"Garner\",\n",
      "    \"address\": \"637 Scott Rest\\nJamesburgh, AK 68812\",\n",
      "    \"country\": \"Bouvet Island (Bouvetoya)\",\n",
      "    \"username\": \"xclark\",\n",
      "    \"age\": 24\n",
      "  },\n",
      "  {\n",
      "    \"first_name\": \"Jennifer\",\n",
      "    \"last_name\": \"Wells\",\n",
      "    \"address\": \"31689 Jessica Villages\\nCainview, PR 85766\",\n",
      "    \"country\": \"Christmas Island\",\n",
      "    \"username\": \"qclark\",\n",
      "    \"age\": 68\n",
      "  },\n",
      "  {\n",
      "    \"first_name\": \"Leroy\",\n",
      "    \"last_name\": \"Stone\",\n",
      "    \"address\": \"8159 James Walk\\nPort Heatherville, MD 67334\",\n",
      "    \"country\": \"Bhutan\",\n",
      "    \"username\": \"kgreen\",\n",
      "    \"age\": 89\n",
      "  },\n",
      "  {\n",
      "    \"first_name\": \"Kenneth\",\n",
      "    \"last_name\": \"Hall\",\n",
      "    \"address\": \"2622 Melinda Freeway Apt. 431\\nKathyborough, NV 48404\",\n",
      "    \"country\": \"Indonesia\",\n",
      "    \"username\": \"barry77\",\n",
      "    \"age\": 99\n",
      "  }\n",
      "]\n"
     ]
    }
   ],
   "execution_count": 14
  },
  {
   "metadata": {},
   "cell_type": "markdown",
   "source": [
    "Another concept is serializers. Serializers provide a way for you to customize the output. \n",
    "To create a CSV string you just tell mocktail to use `CsvString` serializer like this:"
   ],
   "id": "7a671687c7a2185c"
  },
  {
   "metadata": {
    "ExecuteTime": {
     "end_time": "2024-11-12T15:59:50.874875Z",
     "start_time": "2024-11-12T15:59:50.871837Z"
    }
   },
   "cell_type": "code",
   "source": "print(mocktail(User4, 5, serializer=serializers.CsvString()))",
   "id": "c5ee69d53484f3f9",
   "outputs": [
    {
     "name": "stdout",
     "output_type": "stream",
     "text": [
      "\"first_name\",\"last_name\",\"address\",\"country\",\"username\",\"age\"\r\n",
      "\"Julia\",\"Parker\",\"013 Samantha Lodge\n",
      "South Christopherberg, AL 40872\",\"Sri Lanka\",\"leonardcharlene\",87\r\n",
      "\"Erin\",\"Hanson\",\"4526 Yang Crest Apt. 824\n",
      "North Jessica, PR 40123\",\"Jersey\",\"danielle78\",12\r\n",
      "\"Anna\",\"Davis\",\"08091 Robert Ridges\n",
      "Michaelmouth, MI 10192\",\"Timor-Leste\",\"vmcdonald\",63\r\n",
      "\"Gary\",\"Carpenter\",\"USNV Randall\n",
      "FPO AA 63590\",\"French Polynesia\",\"qhardy\",89\r\n",
      "\"Colin\",\"King\",\"255 Nguyen Center\n",
      "East Jacobtown, IL 37714\",\"Mali\",\"yorkjo\",20\r\n",
      "\n"
     ]
    }
   ],
   "execution_count": 15
  },
  {
   "metadata": {},
   "cell_type": "markdown",
   "source": "You can also use `CsvFile` serializer to create a CSV file with the generated data. This will create `test_output.csv` file in the same directory, or you can pass `pathlib.Path` pointing to the location of the file.",
   "id": "de66a8b5c4f5cba9"
  },
  {
   "metadata": {
    "ExecuteTime": {
     "end_time": "2024-11-12T15:59:50.879758Z",
     "start_time": "2024-11-12T15:59:50.875489Z"
    }
   },
   "cell_type": "code",
   "source": [
    "csv_file_serializer = serializers.CsvFile('test_output.csv')\n",
    "mocktail(User4, 5, serializer=csv_file_serializer)"
   ],
   "id": "e46a348740f002c2",
   "outputs": [
    {
     "data": {
      "text/plain": [
       "PosixPath('test_output.csv')"
      ]
     },
     "execution_count": 16,
     "metadata": {},
     "output_type": "execute_result"
    }
   ],
   "execution_count": 16
  },
  {
   "metadata": {},
   "cell_type": "markdown",
   "source": "If you have tests that require inline SQL CTE with the mock data you can use `SqlCte` serializer. When creating serializer instance you need to pass alias for created CTE. ",
   "id": "53ec7d4c492b535e"
  },
  {
   "metadata": {
    "ExecuteTime": {
     "end_time": "2024-11-12T16:05:37.031697Z",
     "start_time": "2024-11-12T16:05:36.895234Z"
    }
   },
   "cell_type": "code",
   "source": [
    "from mocktail.serializers._sql import SqlCte\n",
    "class User5:\n",
    "    username = Str(provider=providers.Username())\n",
    "    first_name = Str(provider=providers.FirstName())\n",
    "    last_name = Str(provider=providers.LastName())\n",
    "    age = Int(provider=providers.Age())\n",
    "    \n",
    "print(mocktail(User5, 5, serializer=SqlCte(\"UserModel\")))"
   ],
   "id": "d24cbd19e757449d",
   "outputs": [
    {
     "name": "stdout",
     "output_type": "stream",
     "text": [
      "WITH \"UserModel\" AS \n",
      "(SELECT username AS username, first_name AS first_name, last_name AS last_name, age AS age \n",
      "FROM (VALUES ('nunezbrandi', 'Jessica', 'Malone', 63), ('browngabrielle', 'Corey', 'Hughes', 61), ('amandaestes', 'Kristi', 'Garrison', 73), ('jacksonjoseph', 'Lindsay', 'Warner', 2), ('matthewmaynard', 'Joshua', 'Todd', 65)))\n",
      " SELECT \"UserModel\".username, \"UserModel\".first_name, \"UserModel\".last_name, \"UserModel\".age \n",
      "FROM \"UserModel\"\n"
     ]
    }
   ],
   "execution_count": 22
  },
  {
   "metadata": {},
   "cell_type": "markdown",
   "source": [
    "You can expect something like \n",
    "```sql\n",
    "WITH \"UserModel\" AS (\n",
    "    SELECT username AS username, first_name AS first_name, last_name AS last_name, age AS age \n",
    "    FROM (\n",
    "        VALUES ('bsmith', 'Ryan', 'Smith', 18), ('jjenkins', 'Patricia', 'Sanchez', 89), ('derrick95', 'Kelly', 'Bradley', 21), ('joshua30', 'Colleen', 'Eaton', 93), ('agonzalez', 'John', 'Hendricks', 30)\n",
    "    )\n",
    ") \n",
    "SELECT \"UserModel\".username, \"UserModel\".first_name, \"UserModel\".last_name, \"UserModel\".age \n",
    "FROM UserModel\n",
    "```"
   ],
   "id": "3e6177296019971f"
  },
  {
   "metadata": {},
   "cell_type": "markdown",
   "source": "Other serializers are not implemented yet, but you can expect availability of different type of data file formats. ",
   "id": "7ae84ffcf14c3acf"
  },
  {
   "metadata": {},
   "cell_type": "markdown",
   "source": "What about testing edge cases with data? Something like age is less than 0?",
   "id": "32a9cd55ccca9df1"
  },
  {
   "metadata": {
    "ExecuteTime": {
     "end_time": "2024-11-12T16:05:41.965118Z",
     "start_time": "2024-11-12T16:05:41.963017Z"
    }
   },
   "cell_type": "code",
   "source": [
    "class User6:\n",
    "    age = Int(provider=[\n",
    "        (0.20, single_int(-1)), \n",
    "        (0.80, providers.Age())\n",
    "    ])\n",
    "    name = Str(provider=providers.FullName())"
   ],
   "id": "e9b5f59176ce76f0",
   "outputs": [],
   "execution_count": 23
  },
  {
   "metadata": {},
   "cell_type": "markdown",
   "source": [
    "This model will contain around 20% of values in `age` field being `-1` (which obviously invalid for the age). With this data you can test your behaviour with the invalid data seeded.\n",
    "Here we create 1000 records and print number of records where `age=-1`, which should be around 20%."
   ],
   "id": "5e05caa2899bb70d"
  },
  {
   "metadata": {
    "ExecuteTime": {
     "end_time": "2024-11-12T16:05:42.346801Z",
     "start_time": "2024-11-12T16:05:42.273503Z"
    }
   },
   "cell_type": "code",
   "source": [
    "test_users = mocktail(User6, 1000)\n",
    "\n",
    "print(f\"Number of users with age equal to -1: {len(list(filter(lambda x: x[\"age\"] == -1, test_users)))}\")"
   ],
   "id": "e816c57a9a69df25",
   "outputs": [
    {
     "name": "stdout",
     "output_type": "stream",
     "text": [
      "Number of users with age equal to -1: 191\n"
     ]
    }
   ],
   "execution_count": 24
  },
  {
   "metadata": {},
   "cell_type": "markdown",
   "source": "In the latest model, you saw a new way to define providers using an array of tuples. In each tuple, the first element is a decimal between 0 and 1, which represents the likelihood of using the provider instance, given as the second element. This lets you introduce invalid data into your models for testing purposes.",
   "id": "773bc7e729ad2bcc"
  },
  {
   "metadata": {},
   "cell_type": "markdown",
   "source": "Another feature you saw is the `single_int` provider, which, as the name suggests, uses the integer given as the first argument each time this provider is called.",
   "id": "28217cb9351e08a1"
  },
  {
   "metadata": {},
   "cell_type": "markdown",
   "source": [
    "Obviously there are much more possibilities that not yet ready. Stay tuned for more updates.\n",
    "\n",
    "Happy coding :)"
   ],
   "id": "39787c619ef9c79e"
  }
 ],
 "metadata": {
  "kernelspec": {
   "display_name": "Python 3 (ipykernel)",
   "language": "python",
   "name": "python3"
  },
  "language_info": {
   "codemirror_mode": {
    "name": "ipython",
    "version": 3
   },
   "file_extension": ".py",
   "mimetype": "text/x-python",
   "name": "python",
   "nbconvert_exporter": "python",
   "pygments_lexer": "ipython3",
   "version": "3.12.4"
  }
 },
 "nbformat": 4,
 "nbformat_minor": 5
}
